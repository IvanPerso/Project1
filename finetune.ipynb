{
 "cells": [
  {
   "cell_type": "code",
   "execution_count": 1,
   "id": "c990642a",
   "metadata": {},
   "outputs": [
    {
     "name": "stdout",
     "output_type": "stream",
     "text": [
      "Downloading https://github.com/ultralytics/assets/releases/download/v8.3.0/yolov8s.pt to 'yolov8s.pt'...\n"
     ]
    },
    {
     "name": "stderr",
     "output_type": "stream",
     "text": [
      "100%|██████████| 21.5M/21.5M [00:00<00:00, 83.8MB/s]\n"
     ]
    },
    {
     "name": "stdout",
     "output_type": "stream",
     "text": [
      "Ultralytics 8.3.145 🚀 Python-3.8.10 torch-2.4.1+cu121 CUDA:0 (NVIDIA RTX A6000, 48677MiB)\n",
      "\u001b[34m\u001b[1mengine/trainer: \u001b[0magnostic_nms=False, amp=True, augment=False, auto_augment=randaugment, batch=32, bgr=0.0, box=7.5, cache=False, cfg=None, classes=None, close_mosaic=10, cls=0.5, conf=None, copy_paste=0.0, copy_paste_mode=flip, cos_lr=False, cutmix=0.0, data=Fire-Smoke-Detection-Yolov11-2/data.yaml, degrees=0.0, deterministic=True, device=0, dfl=1.5, dnn=False, dropout=0.0, dynamic=False, embed=None, epochs=300, erasing=0.4, exist_ok=False, fliplr=0.5, flipud=0.0, format=torchscript, fraction=1.0, freeze=None, half=False, hsv_h=0.015, hsv_s=0.7, hsv_v=0.4, imgsz=640, int8=False, iou=0.7, keras=False, kobj=1.0, line_width=None, lr0=0.01, lrf=0.01, mask_ratio=4, max_det=300, mixup=0.0, mode=train, model=yolov8s.pt, momentum=0.937, mosaic=1.0, multi_scale=False, name=yolov8-fire-smoke, nbs=64, nms=False, opset=None, optimize=False, optimizer=auto, overlap_mask=True, patience=100, perspective=0.0, plots=True, pose=12.0, pretrained=True, profile=False, project=runs-fire-smoke, rect=False, resume=False, retina_masks=False, save=True, save_conf=False, save_crop=False, save_dir=runs-fire-smoke/yolov8-fire-smoke, save_frames=False, save_json=False, save_period=-1, save_txt=False, scale=0.5, seed=0, shear=0.0, show=False, show_boxes=True, show_conf=True, show_labels=True, simplify=True, single_cls=False, source=None, split=val, stream_buffer=False, task=detect, time=None, tracker=botsort.yaml, translate=0.1, val=True, verbose=True, vid_stride=1, visualize=False, warmup_bias_lr=0.1, warmup_epochs=3.0, warmup_momentum=0.8, weight_decay=0.0005, workers=4, workspace=None\n",
      "Downloading https://ultralytics.com/assets/Arial.ttf to '/home/wlgh8749/.config/Ultralytics/Arial.ttf'...\n"
     ]
    },
    {
     "name": "stderr",
     "output_type": "stream",
     "text": [
      "100%|██████████| 755k/755k [00:00<00:00, 53.7MB/s]"
     ]
    },
    {
     "name": "stdout",
     "output_type": "stream",
     "text": [
      "Overriding model.yaml nc=80 with nc=2\n",
      "\n",
      "                   from  n    params  module                                       arguments                     \n",
      "  0                  -1  1       928  ultralytics.nn.modules.conv.Conv             [3, 32, 3, 2]                 \n",
      "  1                  -1  1     18560  ultralytics.nn.modules.conv.Conv             [32, 64, 3, 2]                \n",
      "  2                  -1  1     29056  ultralytics.nn.modules.block.C2f             [64, 64, 1, True]             \n",
      "  3                  -1  1     73984  ultralytics.nn.modules.conv.Conv             [64, 128, 3, 2]               \n",
      "  4                  -1  2    197632  ultralytics.nn.modules.block.C2f             [128, 128, 2, True]           \n",
      "  5                  -1  1    295424  ultralytics.nn.modules.conv.Conv             [128, 256, 3, 2]              \n",
      "  6                  -1  2    788480  ultralytics.nn.modules.block.C2f             [256, 256, 2, True]           \n",
      "  7                  -1  1   1180672  ultralytics.nn.modules.conv.Conv             [256, 512, 3, 2]              \n",
      "  8                  -1  1   1838080  ultralytics.nn.modules.block.C2f             [512, 512, 1, True]           \n",
      "  9                  -1  1    656896  ultralytics.nn.modules.block.SPPF            [512, 512, 5]                 \n",
      " 10                  -1  1         0  torch.nn.modules.upsampling.Upsample         [None, 2, 'nearest']          \n",
      " 11             [-1, 6]  1         0  ultralytics.nn.modules.conv.Concat           [1]                           \n",
      " 12                  -1  1    591360  ultralytics.nn.modules.block.C2f             [768, 256, 1]                 \n",
      " 13                  -1  1         0  torch.nn.modules.upsampling.Upsample         [None, 2, 'nearest']          \n",
      " 14             [-1, 4]  1         0  ultralytics.nn.modules.conv.Concat           [1]                           \n",
      " 15                  -1  1    148224  ultralytics.nn.modules.block.C2f             [384, 128, 1]                 \n",
      " 16                  -1  1    147712  ultralytics.nn.modules.conv.Conv             [128, 128, 3, 2]              \n",
      " 17            [-1, 12]  1         0  ultralytics.nn.modules.conv.Concat           [1]                           \n",
      " 18                  -1  1    493056  ultralytics.nn.modules.block.C2f             [384, 256, 1]                 \n",
      " 19                  -1  1    590336  ultralytics.nn.modules.conv.Conv             [256, 256, 3, 2]              \n",
      " 20             [-1, 9]  1         0  ultralytics.nn.modules.conv.Concat           [1]                           \n"
     ]
    },
    {
     "name": "stderr",
     "output_type": "stream",
     "text": [
      "\n"
     ]
    },
    {
     "name": "stdout",
     "output_type": "stream",
     "text": [
      " 21                  -1  1   1969152  ultralytics.nn.modules.block.C2f             [768, 512, 1]                 \n",
      " 22        [15, 18, 21]  1   2116822  ultralytics.nn.modules.head.Detect           [2, [128, 256, 512]]          \n",
      "Model summary: 129 layers, 11,136,374 parameters, 11,136,358 gradients, 28.6 GFLOPs\n",
      "\n",
      "Transferred 349/355 items from pretrained weights\n",
      "Freezing layer 'model.22.dfl.conv.weight'\n",
      "\u001b[34m\u001b[1mAMP: \u001b[0mrunning Automatic Mixed Precision (AMP) checks...\n",
      "Downloading https://github.com/ultralytics/assets/releases/download/v8.3.0/yolo11n.pt to 'yolo11n.pt'...\n"
     ]
    },
    {
     "name": "stderr",
     "output_type": "stream",
     "text": [
      "100%|██████████| 5.35M/5.35M [00:00<00:00, 85.2MB/s]\n"
     ]
    },
    {
     "name": "stdout",
     "output_type": "stream",
     "text": [
      "\u001b[34m\u001b[1mAMP: \u001b[0mchecks passed ✅\n",
      "\u001b[34m\u001b[1mtrain: \u001b[0mFast image access ✅ (ping: 0.0±0.0 ms, read: 2074.4±804.8 MB/s, size: 58.1 KB)\n"
     ]
    },
    {
     "name": "stderr",
     "output_type": "stream",
     "text": [
      "\u001b[34m\u001b[1mtrain: \u001b[0mScanning /home/wlgh8749/yolo/Fire-Smoke-Detection-Yolov11-2/train/labels... 9156 images, 4 backgrounds, 0 corrupt: 100%|██████████| 9156/9156 [00:05<00:00, 1546.39it/s]"
     ]
    },
    {
     "name": "stdout",
     "output_type": "stream",
     "text": [
      "\u001b[34m\u001b[1mtrain: \u001b[0m/home/wlgh8749/yolo/Fire-Smoke-Detection-Yolov11-2/train/images/Img_102_jpg.rf.1bfc4cfccaedeabe740a5f75c458ca92.jpg: 1 duplicate labels removed\n",
      "\u001b[34m\u001b[1mtrain: \u001b[0m/home/wlgh8749/yolo/Fire-Smoke-Detection-Yolov11-2/train/images/Img_102_jpg.rf.205adca854498135942ab6219e85d0d8.jpg: 1 duplicate labels removed\n",
      "\u001b[34m\u001b[1mtrain: \u001b[0m/home/wlgh8749/yolo/Fire-Smoke-Detection-Yolov11-2/train/images/Img_102_jpg.rf.667e48c430b2f210b28f1233a56ee556.jpg: 1 duplicate labels removed\n",
      "\u001b[34m\u001b[1mtrain: \u001b[0m/home/wlgh8749/yolo/Fire-Smoke-Detection-Yolov11-2/train/images/Img_1049_jpg.rf.0814d8110e7bf3b79e061fd945c1a472.jpg: 1 duplicate labels removed\n",
      "\u001b[34m\u001b[1mtrain: \u001b[0m/home/wlgh8749/yolo/Fire-Smoke-Detection-Yolov11-2/train/images/Img_1049_jpg.rf.3558625354730c1a1ec3a1b8bddc87d4.jpg: 1 duplicate labels removed\n",
      "\u001b[34m\u001b[1mtrain: \u001b[0m/home/wlgh8749/yolo/Fire-Smoke-Detection-Yolov11-2/train/images/Img_1049_jpg.rf.c0074976d1da54e798baec7867a91613.jpg: 1 duplicate labels removed\n",
      "\u001b[34m\u001b[1mtrain: \u001b[0m/home/wlgh8749/yolo/Fire-Smoke-Detection-Yolov11-2/train/images/Img_105_jpg.rf.42bf6c4f5cbff1120a45fbf485230bb5.jpg: 1 duplicate labels removed\n",
      "\u001b[34m\u001b[1mtrain: \u001b[0m/home/wlgh8749/yolo/Fire-Smoke-Detection-Yolov11-2/train/images/Img_105_jpg.rf.a0d7c4409f6fcee9eb89976033fea2c2.jpg: 1 duplicate labels removed\n",
      "\u001b[34m\u001b[1mtrain: \u001b[0m/home/wlgh8749/yolo/Fire-Smoke-Detection-Yolov11-2/train/images/Img_105_jpg.rf.f630e2d846f05d31940046ec2125421a.jpg: 1 duplicate labels removed\n",
      "\u001b[34m\u001b[1mtrain: \u001b[0m/home/wlgh8749/yolo/Fire-Smoke-Detection-Yolov11-2/train/images/Img_1092_jpg.rf.1a4e3cf82f1453043c6d03e14b625138.jpg: 1 duplicate labels removed\n",
      "\u001b[34m\u001b[1mtrain: \u001b[0m/home/wlgh8749/yolo/Fire-Smoke-Detection-Yolov11-2/train/images/Img_1092_jpg.rf.a24812a9b78cc7e9dfce04fa4fa96e9b.jpg: 1 duplicate labels removed\n",
      "\u001b[34m\u001b[1mtrain: \u001b[0m/home/wlgh8749/yolo/Fire-Smoke-Detection-Yolov11-2/train/images/Img_1092_jpg.rf.c62612706d9c0d44aa4ece809905cf6e.jpg: 1 duplicate labels removed\n",
      "\u001b[34m\u001b[1mtrain: \u001b[0m/home/wlgh8749/yolo/Fire-Smoke-Detection-Yolov11-2/train/images/Img_1143_jpg.rf.671a2238d742e6eddbefcae066393258.jpg: 3 duplicate labels removed\n",
      "\u001b[34m\u001b[1mtrain: \u001b[0m/home/wlgh8749/yolo/Fire-Smoke-Detection-Yolov11-2/train/images/Img_1143_jpg.rf.891e9db4a2d50ce5d2cb9fe409ad48f2.jpg: 3 duplicate labels removed\n",
      "\u001b[34m\u001b[1mtrain: \u001b[0m/home/wlgh8749/yolo/Fire-Smoke-Detection-Yolov11-2/train/images/Img_1143_jpg.rf.f3ac0010e0ac27ee960c0ad657011f21.jpg: 3 duplicate labels removed\n",
      "\u001b[34m\u001b[1mtrain: \u001b[0m/home/wlgh8749/yolo/Fire-Smoke-Detection-Yolov11-2/train/images/Img_1150_jpg.rf.04269c58ad59efd63cb4687c7975d0b0.jpg: 2 duplicate labels removed\n",
      "\u001b[34m\u001b[1mtrain: \u001b[0m/home/wlgh8749/yolo/Fire-Smoke-Detection-Yolov11-2/train/images/Img_1150_jpg.rf.af5f1d982b89c4cb226c2c050427dbb9.jpg: 2 duplicate labels removed\n",
      "\u001b[34m\u001b[1mtrain: \u001b[0m/home/wlgh8749/yolo/Fire-Smoke-Detection-Yolov11-2/train/images/Img_1150_jpg.rf.f2f1402f6b295f0a18b402a54aa3ba12.jpg: 2 duplicate labels removed\n",
      "\u001b[34m\u001b[1mtrain: \u001b[0m/home/wlgh8749/yolo/Fire-Smoke-Detection-Yolov11-2/train/images/Img_1188_jpg.rf.1832e6495afddb1cdcb9a79ac6e54795.jpg: 2 duplicate labels removed\n",
      "\u001b[34m\u001b[1mtrain: \u001b[0m/home/wlgh8749/yolo/Fire-Smoke-Detection-Yolov11-2/train/images/Img_1188_jpg.rf.9c4186293913e4383804e5b3acece329.jpg: 2 duplicate labels removed\n",
      "\u001b[34m\u001b[1mtrain: \u001b[0m/home/wlgh8749/yolo/Fire-Smoke-Detection-Yolov11-2/train/images/Img_1188_jpg.rf.af393dcfd97d7a9149b77ad4ed6b71bd.jpg: 2 duplicate labels removed\n",
      "\u001b[34m\u001b[1mtrain: \u001b[0m/home/wlgh8749/yolo/Fire-Smoke-Detection-Yolov11-2/train/images/Img_1197_jpg.rf.23faaa8237d938b4c0d9b4a132ef6113.jpg: 2 duplicate labels removed\n",
      "\u001b[34m\u001b[1mtrain: \u001b[0m/home/wlgh8749/yolo/Fire-Smoke-Detection-Yolov11-2/train/images/Img_1197_jpg.rf.63212cd6d518cc19cdf05ee84ce1a9c0.jpg: 2 duplicate labels removed\n",
      "\u001b[34m\u001b[1mtrain: \u001b[0m/home/wlgh8749/yolo/Fire-Smoke-Detection-Yolov11-2/train/images/Img_1197_jpg.rf.a5942b01833a1d041eb5ca260d00ada8.jpg: 2 duplicate labels removed\n",
      "\u001b[34m\u001b[1mtrain: \u001b[0m/home/wlgh8749/yolo/Fire-Smoke-Detection-Yolov11-2/train/images/Img_1208_jpg.rf.0b3616b148b8cc1286b8e86daea0d944.jpg: 1 duplicate labels removed\n",
      "\u001b[34m\u001b[1mtrain: \u001b[0m/home/wlgh8749/yolo/Fire-Smoke-Detection-Yolov11-2/train/images/Img_1210_jpg.rf.03e49ce6a160162ec5632042ec622413.jpg: 1 duplicate labels removed\n",
      "\u001b[34m\u001b[1mtrain: \u001b[0m/home/wlgh8749/yolo/Fire-Smoke-Detection-Yolov11-2/train/images/Img_1210_jpg.rf.137136fae8f536256b3a6ecc6be28b35.jpg: 2 duplicate labels removed\n",
      "\u001b[34m\u001b[1mtrain: \u001b[0m/home/wlgh8749/yolo/Fire-Smoke-Detection-Yolov11-2/train/images/Img_1210_jpg.rf.9ebc9d83f76d6b937bf042474e7932c4.jpg: 3 duplicate labels removed\n",
      "\u001b[34m\u001b[1mtrain: \u001b[0m/home/wlgh8749/yolo/Fire-Smoke-Detection-Yolov11-2/train/images/Img_1223_jpg.rf.44127cf3d97fa19e2f39a7076b81ead1.jpg: 1 duplicate labels removed\n",
      "\u001b[34m\u001b[1mtrain: \u001b[0m/home/wlgh8749/yolo/Fire-Smoke-Detection-Yolov11-2/train/images/Img_1223_jpg.rf.e8be7cad7f4aa0d5695afed5aea975dc.jpg: 1 duplicate labels removed\n",
      "\u001b[34m\u001b[1mtrain: \u001b[0m/home/wlgh8749/yolo/Fire-Smoke-Detection-Yolov11-2/train/images/Img_1223_jpg.rf.ec5728577909cb72ea607d89bad0b375.jpg: 1 duplicate labels removed\n",
      "\u001b[34m\u001b[1mtrain: \u001b[0m/home/wlgh8749/yolo/Fire-Smoke-Detection-Yolov11-2/train/images/Img_122_jpg.rf.0333b24edc2e8022e0dc0633e3bac008.jpg: 1 duplicate labels removed\n",
      "\u001b[34m\u001b[1mtrain: \u001b[0m/home/wlgh8749/yolo/Fire-Smoke-Detection-Yolov11-2/train/images/Img_122_jpg.rf.275210125c536a626a12fd3ac7dc5dad.jpg: 1 duplicate labels removed\n",
      "\u001b[34m\u001b[1mtrain: \u001b[0m/home/wlgh8749/yolo/Fire-Smoke-Detection-Yolov11-2/train/images/Img_122_jpg.rf.7c903c46d11c6457e0a8e41b065e3706.jpg: 1 duplicate labels removed\n",
      "\u001b[34m\u001b[1mtrain: \u001b[0m/home/wlgh8749/yolo/Fire-Smoke-Detection-Yolov11-2/train/images/Img_123_jpg.rf.0df6a368c428603d3682a0fcfb543ab1.jpg: 1 duplicate labels removed\n",
      "\u001b[34m\u001b[1mtrain: \u001b[0m/home/wlgh8749/yolo/Fire-Smoke-Detection-Yolov11-2/train/images/Img_123_jpg.rf.81a5f47c285347998d578926340ff730.jpg: 1 duplicate labels removed\n",
      "\u001b[34m\u001b[1mtrain: \u001b[0m/home/wlgh8749/yolo/Fire-Smoke-Detection-Yolov11-2/train/images/Img_123_jpg.rf.aabea222aebb352527f9412b51e15f48.jpg: 1 duplicate labels removed\n",
      "\u001b[34m\u001b[1mtrain: \u001b[0m/home/wlgh8749/yolo/Fire-Smoke-Detection-Yolov11-2/train/images/Img_1293_jpg.rf.af63f7f6cb654259f9c44e02bc96d458.jpg: 1 duplicate labels removed\n",
      "\u001b[34m\u001b[1mtrain: \u001b[0m/home/wlgh8749/yolo/Fire-Smoke-Detection-Yolov11-2/train/images/Img_1293_jpg.rf.e1b0a977fc25f7d72b222a91049b7189.jpg: 1 duplicate labels removed\n",
      "\u001b[34m\u001b[1mtrain: \u001b[0m/home/wlgh8749/yolo/Fire-Smoke-Detection-Yolov11-2/train/images/Img_1299_jpg.rf.05e62c80d5ade0d33dbd39294c6fecb4.jpg: 1 duplicate labels removed\n",
      "\u001b[34m\u001b[1mtrain: \u001b[0m/home/wlgh8749/yolo/Fire-Smoke-Detection-Yolov11-2/train/images/Img_1299_jpg.rf.4b27b49bae1b5fc36c59e6a107f4e8c4.jpg: 1 duplicate labels removed\n",
      "\u001b[34m\u001b[1mtrain: \u001b[0m/home/wlgh8749/yolo/Fire-Smoke-Detection-Yolov11-2/train/images/Img_1299_jpg.rf.76b14cc7574d8abd7045817a8de434e4.jpg: 1 duplicate labels removed\n",
      "\u001b[34m\u001b[1mtrain: \u001b[0m/home/wlgh8749/yolo/Fire-Smoke-Detection-Yolov11-2/train/images/Img_1299_jpg.rf.8091e21621f272afd3158b8360547051.jpg: 1 duplicate labels removed\n",
      "\u001b[34m\u001b[1mtrain: \u001b[0m/home/wlgh8749/yolo/Fire-Smoke-Detection-Yolov11-2/train/images/Img_1299_jpg.rf.9b34e9b580dc856fd186889392a4416a.jpg: 1 duplicate labels removed\n",
      "\u001b[34m\u001b[1mtrain: \u001b[0m/home/wlgh8749/yolo/Fire-Smoke-Detection-Yolov11-2/train/images/Img_1319_jpg.rf.1f15639d7a78d401ca80a77e7b82012d.jpg: 1 duplicate labels removed\n",
      "\u001b[34m\u001b[1mtrain: \u001b[0m/home/wlgh8749/yolo/Fire-Smoke-Detection-Yolov11-2/train/images/Img_1319_jpg.rf.826b241dbd1b692828907be44608db6b.jpg: 1 duplicate labels removed\n",
      "\u001b[34m\u001b[1mtrain: \u001b[0m/home/wlgh8749/yolo/Fire-Smoke-Detection-Yolov11-2/train/images/Img_1319_jpg.rf.82cac95cb771527d5778f25ebd8d5c8d.jpg: 1 duplicate labels removed\n",
      "\u001b[34m\u001b[1mtrain: \u001b[0m/home/wlgh8749/yolo/Fire-Smoke-Detection-Yolov11-2/train/images/Img_1327_jpg.rf.68b6c407c3928b05f95cd0b38c992d19.jpg: 1 duplicate labels removed\n",
      "\u001b[34m\u001b[1mtrain: \u001b[0m/home/wlgh8749/yolo/Fire-Smoke-Detection-Yolov11-2/train/images/Img_1327_jpg.rf.8a0b990ec1e3f728a3d044d086a72241.jpg: 1 duplicate labels removed\n",
      "\u001b[34m\u001b[1mtrain: \u001b[0m/home/wlgh8749/yolo/Fire-Smoke-Detection-Yolov11-2/train/images/Img_1327_jpg.rf.95b8d945401c6a37e4fd74c274e4aa95.jpg: 1 duplicate labels removed\n",
      "\u001b[34m\u001b[1mtrain: \u001b[0m/home/wlgh8749/yolo/Fire-Smoke-Detection-Yolov11-2/train/images/Img_1330_jpg.rf.24de6877335a7fafc1501fa8bceb22e9.jpg: 3 duplicate labels removed\n",
      "\u001b[34m\u001b[1mtrain: \u001b[0m/home/wlgh8749/yolo/Fire-Smoke-Detection-Yolov11-2/train/images/Img_1330_jpg.rf.6cf1aea2a32dd762dfcf91de98df0319.jpg: 3 duplicate labels removed\n",
      "\u001b[34m\u001b[1mtrain: \u001b[0m/home/wlgh8749/yolo/Fire-Smoke-Detection-Yolov11-2/train/images/Img_1330_jpg.rf.992933fc85eaf2c9cc77d0a617dd7fe7.jpg: 3 duplicate labels removed\n",
      "\u001b[34m\u001b[1mtrain: \u001b[0m/home/wlgh8749/yolo/Fire-Smoke-Detection-Yolov11-2/train/images/Img_1355_jpg.rf.1ebbc7c05e06c53494804e0a1aaefb73.jpg: 4 duplicate labels removed\n",
      "\u001b[34m\u001b[1mtrain: \u001b[0m/home/wlgh8749/yolo/Fire-Smoke-Detection-Yolov11-2/train/images/Img_1355_jpg.rf.7c88433aa273dc43d6fb640fb25d6667.jpg: 4 duplicate labels removed\n",
      "\u001b[34m\u001b[1mtrain: \u001b[0m/home/wlgh8749/yolo/Fire-Smoke-Detection-Yolov11-2/train/images/Img_1355_jpg.rf.9f0018e7dabb1613770809ab7cf28a0b.jpg: 4 duplicate labels removed\n",
      "\u001b[34m\u001b[1mtrain: \u001b[0m/home/wlgh8749/yolo/Fire-Smoke-Detection-Yolov11-2/train/images/Img_136_jpg.rf.60bce8342cc31a83075b4fccafcc2eb9.jpg: 1 duplicate labels removed\n",
      "\u001b[34m\u001b[1mtrain: \u001b[0m/home/wlgh8749/yolo/Fire-Smoke-Detection-Yolov11-2/train/images/Img_136_jpg.rf.ad3223e0f656820746dd18c6ef72d7ba.jpg: 1 duplicate labels removed\n",
      "\u001b[34m\u001b[1mtrain: \u001b[0m/home/wlgh8749/yolo/Fire-Smoke-Detection-Yolov11-2/train/images/Img_136_jpg.rf.b18a2d7bea11f653231345652c5bb43a.jpg: 1 duplicate labels removed\n",
      "\u001b[34m\u001b[1mtrain: \u001b[0m/home/wlgh8749/yolo/Fire-Smoke-Detection-Yolov11-2/train/images/Img_1656_jpg.rf.2437e61585ddbd748c484ab49251a812.jpg: 1 duplicate labels removed\n",
      "\u001b[34m\u001b[1mtrain: \u001b[0m/home/wlgh8749/yolo/Fire-Smoke-Detection-Yolov11-2/train/images/Img_1656_jpg.rf.8997829abe967364c90c098c2d654472.jpg: 1 duplicate labels removed\n",
      "\u001b[34m\u001b[1mtrain: \u001b[0m/home/wlgh8749/yolo/Fire-Smoke-Detection-Yolov11-2/train/images/Img_1656_jpg.rf.dccd3fb5ab00cd0a1c112be7fb267aa6.jpg: 1 duplicate labels removed\n",
      "\u001b[34m\u001b[1mtrain: \u001b[0m/home/wlgh8749/yolo/Fire-Smoke-Detection-Yolov11-2/train/images/Img_1777_jpg.rf.367e89437500cb5468cccff691a83928.jpg: 2 duplicate labels removed\n",
      "\u001b[34m\u001b[1mtrain: \u001b[0m/home/wlgh8749/yolo/Fire-Smoke-Detection-Yolov11-2/train/images/Img_1777_jpg.rf.f72496d673968dc65a510681ace8aac6.jpg: 2 duplicate labels removed\n",
      "\u001b[34m\u001b[1mtrain: \u001b[0m/home/wlgh8749/yolo/Fire-Smoke-Detection-Yolov11-2/train/images/Img_1777_jpg.rf.ff85e017cc551da3a6bbe4362a3e6615.jpg: 2 duplicate labels removed\n",
      "\u001b[34m\u001b[1mtrain: \u001b[0m/home/wlgh8749/yolo/Fire-Smoke-Detection-Yolov11-2/train/images/Img_1787_jpg.rf.112c1304a431c17bf5f0d277eaa21b37.jpg: 1 duplicate labels removed\n",
      "\u001b[34m\u001b[1mtrain: \u001b[0m/home/wlgh8749/yolo/Fire-Smoke-Detection-Yolov11-2/train/images/Img_1787_jpg.rf.a31b4bc122e5ecf78f79ad419e1eef69.jpg: 1 duplicate labels removed\n",
      "\u001b[34m\u001b[1mtrain: \u001b[0m/home/wlgh8749/yolo/Fire-Smoke-Detection-Yolov11-2/train/images/Img_1787_jpg.rf.ad0bc5f9bba6862a70e6bbff1ae07c32.jpg: 1 duplicate labels removed\n",
      "\u001b[34m\u001b[1mtrain: \u001b[0m/home/wlgh8749/yolo/Fire-Smoke-Detection-Yolov11-2/train/images/Img_1914_jpg.rf.79bd15a589f1bb5887fb7847e50f3030.jpg: 1 duplicate labels removed\n",
      "\u001b[34m\u001b[1mtrain: \u001b[0m/home/wlgh8749/yolo/Fire-Smoke-Detection-Yolov11-2/train/images/Img_1914_jpg.rf.d3c7bd7ca771305c8c3431032299dd94.jpg: 1 duplicate labels removed\n",
      "\u001b[34m\u001b[1mtrain: \u001b[0m/home/wlgh8749/yolo/Fire-Smoke-Detection-Yolov11-2/train/images/Img_1914_jpg.rf.ddb34cc4d7d0815ef8614bc8749341ff.jpg: 1 duplicate labels removed\n",
      "\u001b[34m\u001b[1mtrain: \u001b[0m/home/wlgh8749/yolo/Fire-Smoke-Detection-Yolov11-2/train/images/Img_1970_jpg.rf.5105c9a908f91c6e8aa667335f928e37.jpg: 1 duplicate labels removed\n",
      "\u001b[34m\u001b[1mtrain: \u001b[0m/home/wlgh8749/yolo/Fire-Smoke-Detection-Yolov11-2/train/images/Img_1970_jpg.rf.783e8d69e0708baa26562c1204d08b5c.jpg: 1 duplicate labels removed\n",
      "\u001b[34m\u001b[1mtrain: \u001b[0m/home/wlgh8749/yolo/Fire-Smoke-Detection-Yolov11-2/train/images/Img_1970_jpg.rf.e536addc792cfb4e2fb5baf71253c53c.jpg: 1 duplicate labels removed\n",
      "\u001b[34m\u001b[1mtrain: \u001b[0m/home/wlgh8749/yolo/Fire-Smoke-Detection-Yolov11-2/train/images/Img_203_jpg.rf.037cdb64dd6921c8e49f68d5c9a48086.jpg: 3 duplicate labels removed\n",
      "\u001b[34m\u001b[1mtrain: \u001b[0m/home/wlgh8749/yolo/Fire-Smoke-Detection-Yolov11-2/train/images/Img_203_jpg.rf.4362869c5fa0300cc40456009591ae20.jpg: 3 duplicate labels removed\n",
      "\u001b[34m\u001b[1mtrain: \u001b[0m/home/wlgh8749/yolo/Fire-Smoke-Detection-Yolov11-2/train/images/Img_203_jpg.rf.e039d50bd51533690b553e2c306d6366.jpg: 3 duplicate labels removed\n",
      "\u001b[34m\u001b[1mtrain: \u001b[0m/home/wlgh8749/yolo/Fire-Smoke-Detection-Yolov11-2/train/images/Img_2044_jpg.rf.68c51203191969f232bab58d85b73ef4.jpg: 1 duplicate labels removed\n",
      "\u001b[34m\u001b[1mtrain: \u001b[0m/home/wlgh8749/yolo/Fire-Smoke-Detection-Yolov11-2/train/images/Img_2044_jpg.rf.85b6f5e0823b13d38d61989219c36d50.jpg: 1 duplicate labels removed\n",
      "\u001b[34m\u001b[1mtrain: \u001b[0m/home/wlgh8749/yolo/Fire-Smoke-Detection-Yolov11-2/train/images/Img_2044_jpg.rf.ee8e7d7df3c88a4a408cc11963ca1555.jpg: 1 duplicate labels removed\n",
      "\u001b[34m\u001b[1mtrain: \u001b[0m/home/wlgh8749/yolo/Fire-Smoke-Detection-Yolov11-2/train/images/Img_204_jpg.rf.570ef08189810751a4a83b9649da1e88.jpg: 1 duplicate labels removed\n",
      "\u001b[34m\u001b[1mtrain: \u001b[0m/home/wlgh8749/yolo/Fire-Smoke-Detection-Yolov11-2/train/images/Img_204_jpg.rf.850803e97823845638e0fe3d6b2cfcf9.jpg: 1 duplicate labels removed\n",
      "\u001b[34m\u001b[1mtrain: \u001b[0m/home/wlgh8749/yolo/Fire-Smoke-Detection-Yolov11-2/train/images/Img_204_jpg.rf.957f2e26ecb52b845e8b536f23f63f07.jpg: 1 duplicate labels removed\n",
      "\u001b[34m\u001b[1mtrain: \u001b[0m/home/wlgh8749/yolo/Fire-Smoke-Detection-Yolov11-2/train/images/Img_2069_jpg.rf.11a4389d31c0281fc247681c1d0768dd.jpg: 1 duplicate labels removed\n",
      "\u001b[34m\u001b[1mtrain: \u001b[0m/home/wlgh8749/yolo/Fire-Smoke-Detection-Yolov11-2/train/images/Img_2069_jpg.rf.f054a9ecf2e655323ef9c6e17195001f.jpg: 1 duplicate labels removed\n",
      "\u001b[34m\u001b[1mtrain: \u001b[0m/home/wlgh8749/yolo/Fire-Smoke-Detection-Yolov11-2/train/images/Img_2069_jpg.rf.fa8bd85c5cd24b7108fb567de0764dac.jpg: 1 duplicate labels removed\n",
      "\u001b[34m\u001b[1mtrain: \u001b[0m/home/wlgh8749/yolo/Fire-Smoke-Detection-Yolov11-2/train/images/Img_211_jpg.rf.256618fee3795c007867b46623acf380.jpg: 2 duplicate labels removed\n",
      "\u001b[34m\u001b[1mtrain: \u001b[0m/home/wlgh8749/yolo/Fire-Smoke-Detection-Yolov11-2/train/images/Img_211_jpg.rf.9802a5bf3ca4c76294cabac468fda559.jpg: 2 duplicate labels removed\n",
      "\u001b[34m\u001b[1mtrain: \u001b[0m/home/wlgh8749/yolo/Fire-Smoke-Detection-Yolov11-2/train/images/Img_211_jpg.rf.9f81fee4a0762893f8240f489049e44c.jpg: 2 duplicate labels removed\n",
      "\u001b[34m\u001b[1mtrain: \u001b[0m/home/wlgh8749/yolo/Fire-Smoke-Detection-Yolov11-2/train/images/Img_234_jpg.rf.8333f153685f0944119857cc618ad470.jpg: 3 duplicate labels removed\n",
      "\u001b[34m\u001b[1mtrain: \u001b[0m/home/wlgh8749/yolo/Fire-Smoke-Detection-Yolov11-2/train/images/Img_234_jpg.rf.a45e693051a305ff4d65d9c913e291cd.jpg: 3 duplicate labels removed\n",
      "\u001b[34m\u001b[1mtrain: \u001b[0m/home/wlgh8749/yolo/Fire-Smoke-Detection-Yolov11-2/train/images/Img_234_jpg.rf.ec78b432340c4e6dbdf040635af50729.jpg: 3 duplicate labels removed\n",
      "\u001b[34m\u001b[1mtrain: \u001b[0m/home/wlgh8749/yolo/Fire-Smoke-Detection-Yolov11-2/train/images/Img_253_jpg.rf.115acf8625482352e93181047b9d1253.jpg: 2 duplicate labels removed\n",
      "\u001b[34m\u001b[1mtrain: \u001b[0m/home/wlgh8749/yolo/Fire-Smoke-Detection-Yolov11-2/train/images/Img_253_jpg.rf.6a07958e3adcfd241097cf21a1827c79.jpg: 2 duplicate labels removed\n",
      "\u001b[34m\u001b[1mtrain: \u001b[0m/home/wlgh8749/yolo/Fire-Smoke-Detection-Yolov11-2/train/images/Img_253_jpg.rf.a7ea4e35e7fb658bf6e9e416acd12803.jpg: 2 duplicate labels removed\n",
      "\u001b[34m\u001b[1mtrain: \u001b[0m/home/wlgh8749/yolo/Fire-Smoke-Detection-Yolov11-2/train/images/Img_258_jpg.rf.0d5dc5ba210673eb9a42c6d8f4f73e8b.jpg: 2 duplicate labels removed\n",
      "\u001b[34m\u001b[1mtrain: \u001b[0m/home/wlgh8749/yolo/Fire-Smoke-Detection-Yolov11-2/train/images/Img_258_jpg.rf.5cbca6f7fdc904c55c43ce5c16bb1476.jpg: 2 duplicate labels removed\n",
      "\u001b[34m\u001b[1mtrain: \u001b[0m/home/wlgh8749/yolo/Fire-Smoke-Detection-Yolov11-2/train/images/Img_258_jpg.rf.eb18a80c0a3a30eb6b003b6a3317c2a6.jpg: 2 duplicate labels removed\n",
      "\u001b[34m\u001b[1mtrain: \u001b[0m/home/wlgh8749/yolo/Fire-Smoke-Detection-Yolov11-2/train/images/Img_345_jpg.rf.5b19f51140da97a1b3d396814d0cd391.jpg: 1 duplicate labels removed\n",
      "\u001b[34m\u001b[1mtrain: \u001b[0m/home/wlgh8749/yolo/Fire-Smoke-Detection-Yolov11-2/train/images/Img_345_jpg.rf.5cb629674327913d75825ec94b8f3887.jpg: 1 duplicate labels removed\n",
      "\u001b[34m\u001b[1mtrain: \u001b[0m/home/wlgh8749/yolo/Fire-Smoke-Detection-Yolov11-2/train/images/Img_345_jpg.rf.5fe0af22bac365c3af8cff90fd59bfba.jpg: 1 duplicate labels removed\n",
      "\u001b[34m\u001b[1mtrain: \u001b[0m/home/wlgh8749/yolo/Fire-Smoke-Detection-Yolov11-2/train/images/Img_361_jpg.rf.3000affbfe96ab070530aba186e073bf.jpg: 1 duplicate labels removed\n",
      "\u001b[34m\u001b[1mtrain: \u001b[0m/home/wlgh8749/yolo/Fire-Smoke-Detection-Yolov11-2/train/images/Img_361_jpg.rf.722c604973a31f3104dca1f29a1ef8b0.jpg: 1 duplicate labels removed\n",
      "\u001b[34m\u001b[1mtrain: \u001b[0m/home/wlgh8749/yolo/Fire-Smoke-Detection-Yolov11-2/train/images/Img_361_jpg.rf.899547e43fc11fc0812cbbf7fce8041f.jpg: 1 duplicate labels removed\n",
      "\u001b[34m\u001b[1mtrain: \u001b[0m/home/wlgh8749/yolo/Fire-Smoke-Detection-Yolov11-2/train/images/Img_363_jpg.rf.0a41939aeaaa0605339fe21022b6f098.jpg: 1 duplicate labels removed\n",
      "\u001b[34m\u001b[1mtrain: \u001b[0m/home/wlgh8749/yolo/Fire-Smoke-Detection-Yolov11-2/train/images/Img_363_jpg.rf.3faa67830616766419df297c9ce92804.jpg: 1 duplicate labels removed\n",
      "\u001b[34m\u001b[1mtrain: \u001b[0m/home/wlgh8749/yolo/Fire-Smoke-Detection-Yolov11-2/train/images/Img_363_jpg.rf.a0236c25f8bd486020cd1c36ac810859.jpg: 1 duplicate labels removed\n",
      "\u001b[34m\u001b[1mtrain: \u001b[0m/home/wlgh8749/yolo/Fire-Smoke-Detection-Yolov11-2/train/images/Img_366_jpg.rf.878a91e13198728214ae00e49a1a4c65.jpg: 1 duplicate labels removed\n",
      "\u001b[34m\u001b[1mtrain: \u001b[0m/home/wlgh8749/yolo/Fire-Smoke-Detection-Yolov11-2/train/images/Img_366_jpg.rf.ac675137a393e1296c0c8ff3a6e21591.jpg: 1 duplicate labels removed\n",
      "\u001b[34m\u001b[1mtrain: \u001b[0m/home/wlgh8749/yolo/Fire-Smoke-Detection-Yolov11-2/train/images/Img_366_jpg.rf.c5957c31e3153cdf012c7c9bebc62356.jpg: 1 duplicate labels removed\n",
      "\u001b[34m\u001b[1mtrain: \u001b[0m/home/wlgh8749/yolo/Fire-Smoke-Detection-Yolov11-2/train/images/Img_36_jpg.rf.940f2cb2e4c88fdfe1daafcad1fbd492.jpg: 1 duplicate labels removed\n",
      "\u001b[34m\u001b[1mtrain: \u001b[0m/home/wlgh8749/yolo/Fire-Smoke-Detection-Yolov11-2/train/images/Img_36_jpg.rf.9dfd832414cc84718051745bef34731e.jpg: 1 duplicate labels removed\n",
      "\u001b[34m\u001b[1mtrain: \u001b[0m/home/wlgh8749/yolo/Fire-Smoke-Detection-Yolov11-2/train/images/Img_36_jpg.rf.d7c6facc1e4d297ff932e1b451a0cf02.jpg: 1 duplicate labels removed\n",
      "\u001b[34m\u001b[1mtrain: \u001b[0m/home/wlgh8749/yolo/Fire-Smoke-Detection-Yolov11-2/train/images/Img_388_jpg.rf.586c52d9d80a9228e7eeb2d09bb51ac2.jpg: 1 duplicate labels removed\n",
      "\u001b[34m\u001b[1mtrain: \u001b[0m/home/wlgh8749/yolo/Fire-Smoke-Detection-Yolov11-2/train/images/Img_388_jpg.rf.af383e8b374bcfdd825adcc4e2c601e6.jpg: 1 duplicate labels removed\n",
      "\u001b[34m\u001b[1mtrain: \u001b[0m/home/wlgh8749/yolo/Fire-Smoke-Detection-Yolov11-2/train/images/Img_388_jpg.rf.de8047ce5ce85bce04e7049dcdae964d.jpg: 1 duplicate labels removed\n",
      "\u001b[34m\u001b[1mtrain: \u001b[0m/home/wlgh8749/yolo/Fire-Smoke-Detection-Yolov11-2/train/images/Img_397_jpg.rf.331da1b9f97cb96f78ec92a8936f406b.jpg: 1 duplicate labels removed\n",
      "\u001b[34m\u001b[1mtrain: \u001b[0m/home/wlgh8749/yolo/Fire-Smoke-Detection-Yolov11-2/train/images/Img_397_jpg.rf.388336efe2064a1dc4d4089826d55fde.jpg: 1 duplicate labels removed\n",
      "\u001b[34m\u001b[1mtrain: \u001b[0m/home/wlgh8749/yolo/Fire-Smoke-Detection-Yolov11-2/train/images/Img_397_jpg.rf.5223f2ef9eac6dab9329b4276a2a821e.jpg: 1 duplicate labels removed\n",
      "\u001b[34m\u001b[1mtrain: \u001b[0m/home/wlgh8749/yolo/Fire-Smoke-Detection-Yolov11-2/train/images/Img_420_jpg.rf.3232555117199e32b3c9804703e4f7b4.jpg: 1 duplicate labels removed\n",
      "\u001b[34m\u001b[1mtrain: \u001b[0m/home/wlgh8749/yolo/Fire-Smoke-Detection-Yolov11-2/train/images/Img_420_jpg.rf.6d5e88653b19edd60efd85e6c6a4b175.jpg: 1 duplicate labels removed\n",
      "\u001b[34m\u001b[1mtrain: \u001b[0m/home/wlgh8749/yolo/Fire-Smoke-Detection-Yolov11-2/train/images/Img_420_jpg.rf.a92d967959b6d793ba7bbc178c869c58.jpg: 1 duplicate labels removed\n",
      "\u001b[34m\u001b[1mtrain: \u001b[0m/home/wlgh8749/yolo/Fire-Smoke-Detection-Yolov11-2/train/images/Img_428_jpg.rf.43ac7cfb28b1ab5b6b13f4d647840739.jpg: 1 duplicate labels removed\n",
      "\u001b[34m\u001b[1mtrain: \u001b[0m/home/wlgh8749/yolo/Fire-Smoke-Detection-Yolov11-2/train/images/Img_428_jpg.rf.52c0cb5f10d4274f4d633e2827733132.jpg: 1 duplicate labels removed\n",
      "\u001b[34m\u001b[1mtrain: \u001b[0m/home/wlgh8749/yolo/Fire-Smoke-Detection-Yolov11-2/train/images/Img_428_jpg.rf.ea9288b29356e51f32bb70bc07ed0306.jpg: 1 duplicate labels removed\n",
      "\u001b[34m\u001b[1mtrain: \u001b[0m/home/wlgh8749/yolo/Fire-Smoke-Detection-Yolov11-2/train/images/Img_497_jpg.rf.04f359608d2d3b4b60126ca698842961.jpg: 1 duplicate labels removed\n",
      "\u001b[34m\u001b[1mtrain: \u001b[0m/home/wlgh8749/yolo/Fire-Smoke-Detection-Yolov11-2/train/images/Img_497_jpg.rf.415c0bd3406a742a662538f4801b9162.jpg: 1 duplicate labels removed\n",
      "\u001b[34m\u001b[1mtrain: \u001b[0m/home/wlgh8749/yolo/Fire-Smoke-Detection-Yolov11-2/train/images/Img_497_jpg.rf.fe048b74e28e9e1ee6dad062198d1469.jpg: 1 duplicate labels removed\n",
      "\u001b[34m\u001b[1mtrain: \u001b[0m/home/wlgh8749/yolo/Fire-Smoke-Detection-Yolov11-2/train/images/Img_504_jpg.rf.455ea64a921fcb2698451d3674e95580.jpg: 1 duplicate labels removed\n",
      "\u001b[34m\u001b[1mtrain: \u001b[0m/home/wlgh8749/yolo/Fire-Smoke-Detection-Yolov11-2/train/images/Img_504_jpg.rf.b75036ba5b739b376a1a5aac272645ae.jpg: 1 duplicate labels removed\n",
      "\u001b[34m\u001b[1mtrain: \u001b[0m/home/wlgh8749/yolo/Fire-Smoke-Detection-Yolov11-2/train/images/Img_504_jpg.rf.d3ba42d2b1d7038678dda32280362ee6.jpg: 1 duplicate labels removed\n",
      "\u001b[34m\u001b[1mtrain: \u001b[0m/home/wlgh8749/yolo/Fire-Smoke-Detection-Yolov11-2/train/images/Img_50_jpg.rf.32b752d4f70e79990d18341c43571098.jpg: 1 duplicate labels removed\n",
      "\u001b[34m\u001b[1mtrain: \u001b[0m/home/wlgh8749/yolo/Fire-Smoke-Detection-Yolov11-2/train/images/Img_50_jpg.rf.51b6a39c04f83aa88a4e7cbbaea953eb.jpg: 1 duplicate labels removed\n",
      "\u001b[34m\u001b[1mtrain: \u001b[0m/home/wlgh8749/yolo/Fire-Smoke-Detection-Yolov11-2/train/images/Img_50_jpg.rf.96c66494e6f2c286e747cd433abfece7.jpg: 1 duplicate labels removed\n",
      "\u001b[34m\u001b[1mtrain: \u001b[0m/home/wlgh8749/yolo/Fire-Smoke-Detection-Yolov11-2/train/images/Img_58_jpg.rf.2d4d18f547561d46ba0ebcc697f9e010.jpg: 1 duplicate labels removed\n",
      "\u001b[34m\u001b[1mtrain: \u001b[0m/home/wlgh8749/yolo/Fire-Smoke-Detection-Yolov11-2/train/images/Img_58_jpg.rf.623e6252b7ee5ba25f6566bda0a05967.jpg: 1 duplicate labels removed\n",
      "\u001b[34m\u001b[1mtrain: \u001b[0m/home/wlgh8749/yolo/Fire-Smoke-Detection-Yolov11-2/train/images/Img_58_jpg.rf.8977ff0c5be724f32d84f979ab9985f7.jpg: 1 duplicate labels removed\n",
      "\u001b[34m\u001b[1mtrain: \u001b[0m/home/wlgh8749/yolo/Fire-Smoke-Detection-Yolov11-2/train/images/Img_61_jpg.rf.3851b290e492256b3b3f3480b1daf633.jpg: 1 duplicate labels removed\n",
      "\u001b[34m\u001b[1mtrain: \u001b[0m/home/wlgh8749/yolo/Fire-Smoke-Detection-Yolov11-2/train/images/Img_61_jpg.rf.4d51431aab98a0d2668b4d6ab2a42dca.jpg: 1 duplicate labels removed\n",
      "\u001b[34m\u001b[1mtrain: \u001b[0m/home/wlgh8749/yolo/Fire-Smoke-Detection-Yolov11-2/train/images/Img_61_jpg.rf.83d7ce8ffa462ef5c90c6994379b8864.jpg: 1 duplicate labels removed\n",
      "\u001b[34m\u001b[1mtrain: \u001b[0m/home/wlgh8749/yolo/Fire-Smoke-Detection-Yolov11-2/train/images/Img_68_jpg.rf.7d512a3055f63703a58773cce5ad9238.jpg: 1 duplicate labels removed\n",
      "\u001b[34m\u001b[1mtrain: \u001b[0m/home/wlgh8749/yolo/Fire-Smoke-Detection-Yolov11-2/train/images/Img_68_jpg.rf.8ccc5126e4ac3b1a5958086462df6be2.jpg: 1 duplicate labels removed\n",
      "\u001b[34m\u001b[1mtrain: \u001b[0m/home/wlgh8749/yolo/Fire-Smoke-Detection-Yolov11-2/train/images/Img_68_jpg.rf.9685b88fc5c2c0011ef0843660fbb451.jpg: 1 duplicate labels removed\n",
      "\u001b[34m\u001b[1mtrain: \u001b[0m/home/wlgh8749/yolo/Fire-Smoke-Detection-Yolov11-2/train/images/Img_74_jpg.rf.17557c42ef2361106ec83e9d7661d78a.jpg: 1 duplicate labels removed\n",
      "\u001b[34m\u001b[1mtrain: \u001b[0m/home/wlgh8749/yolo/Fire-Smoke-Detection-Yolov11-2/train/images/Img_74_jpg.rf.e88dc07260117546b35846a0f969373a.jpg: 1 duplicate labels removed\n",
      "\u001b[34m\u001b[1mtrain: \u001b[0m/home/wlgh8749/yolo/Fire-Smoke-Detection-Yolov11-2/train/images/Img_74_jpg.rf.feb4909c0bd6271a6819239662424a2d.jpg: 1 duplicate labels removed\n",
      "\u001b[34m\u001b[1mtrain: \u001b[0m/home/wlgh8749/yolo/Fire-Smoke-Detection-Yolov11-2/train/images/Img_81_jpg.rf.3045a36b8b3cf678eea1cd8eb62e75e5.jpg: 1 duplicate labels removed\n",
      "\u001b[34m\u001b[1mtrain: \u001b[0m/home/wlgh8749/yolo/Fire-Smoke-Detection-Yolov11-2/train/images/Img_81_jpg.rf.3ddcf51c1f5a3f1b23d4218d845e2f66.jpg: 1 duplicate labels removed\n",
      "\u001b[34m\u001b[1mtrain: \u001b[0m/home/wlgh8749/yolo/Fire-Smoke-Detection-Yolov11-2/train/images/Img_81_jpg.rf.cfacc8ab0c7e207325c8366292b363ed.jpg: 1 duplicate labels removed\n",
      "\u001b[34m\u001b[1mtrain: \u001b[0m/home/wlgh8749/yolo/Fire-Smoke-Detection-Yolov11-2/train/images/Img_82_jpg.rf.24b168a7f1848c254fa9a3392a4b5f06.jpg: 1 duplicate labels removed\n",
      "\u001b[34m\u001b[1mtrain: \u001b[0m/home/wlgh8749/yolo/Fire-Smoke-Detection-Yolov11-2/train/images/Img_82_jpg.rf.69b3c2856fbe40e882fd6d88eb3f4b2b.jpg: 1 duplicate labels removed\n",
      "\u001b[34m\u001b[1mtrain: \u001b[0m/home/wlgh8749/yolo/Fire-Smoke-Detection-Yolov11-2/train/images/Img_82_jpg.rf.ffee32c0e9279e6034116cfb20ea8cc3.jpg: 1 duplicate labels removed\n",
      "\u001b[34m\u001b[1mtrain: \u001b[0m/home/wlgh8749/yolo/Fire-Smoke-Detection-Yolov11-2/train/images/Img_92_jpg.rf.a77b3acaa9020941ce6aaebe485fec7a.jpg: 1 duplicate labels removed\n",
      "\u001b[34m\u001b[1mtrain: \u001b[0m/home/wlgh8749/yolo/Fire-Smoke-Detection-Yolov11-2/train/images/Img_92_jpg.rf.b7167064090e4f24bb167358e40a4759.jpg: 1 duplicate labels removed\n",
      "\u001b[34m\u001b[1mtrain: \u001b[0m/home/wlgh8749/yolo/Fire-Smoke-Detection-Yolov11-2/train/images/Img_92_jpg.rf.e46665d79037162dccdb997ba1ebe2c5.jpg: 1 duplicate labels removed\n"
     ]
    },
    {
     "name": "stderr",
     "output_type": "stream",
     "text": [
      "\n"
     ]
    },
    {
     "name": "stdout",
     "output_type": "stream",
     "text": [
      "\u001b[34m\u001b[1mtrain: \u001b[0mNew cache created: /home/wlgh8749/yolo/Fire-Smoke-Detection-Yolov11-2/train/labels.cache\n",
      "WARNING ⚠️ Box and segment counts should be equal, but got len(segments) = 411, len(boxes) = 15605. To resolve this only boxes will be used and all segments will be removed. To avoid this please supply either a detect or segment dataset, not a detect-segment mixed dataset.\n",
      "\u001b[34m\u001b[1mval: \u001b[0mFast image access ✅ (ping: 0.0±0.0 ms, read: 1345.1±712.0 MB/s, size: 53.7 KB)\n"
     ]
    },
    {
     "name": "stderr",
     "output_type": "stream",
     "text": [
      "\u001b[34m\u001b[1mval: \u001b[0mScanning /home/wlgh8749/yolo/Fire-Smoke-Detection-Yolov11-2/valid/labels... 872 images, 0 backgrounds, 0 corrupt: 100%|██████████| 872/872 [00:00<00:00, 1772.63it/s]"
     ]
    },
    {
     "name": "stdout",
     "output_type": "stream",
     "text": [
      "\u001b[34m\u001b[1mval: \u001b[0m/home/wlgh8749/yolo/Fire-Smoke-Detection-Yolov11-2/valid/images/0111_jpg.rf.df9ecd8f7faed94e97c5a56527701e05.jpg: 1 duplicate labels removed\n",
      "\u001b[34m\u001b[1mval: \u001b[0m/home/wlgh8749/yolo/Fire-Smoke-Detection-Yolov11-2/valid/images/52_jpg.rf.f27ed8ca965c7261933cc61528cd6a0a.jpg: 1 duplicate labels removed\n",
      "\u001b[34m\u001b[1mval: \u001b[0m/home/wlgh8749/yolo/Fire-Smoke-Detection-Yolov11-2/valid/images/Img_1060_jpg.rf.d53273be278b74366e9ae2bfca25f709.jpg: 1 duplicate labels removed\n",
      "\u001b[34m\u001b[1mval: \u001b[0m/home/wlgh8749/yolo/Fire-Smoke-Detection-Yolov11-2/valid/images/Img_1169_jpg.rf.ad38a3b517eeced6a0412e60069c01dc.jpg: 2 duplicate labels removed\n",
      "\u001b[34m\u001b[1mval: \u001b[0m/home/wlgh8749/yolo/Fire-Smoke-Detection-Yolov11-2/valid/images/Img_1195_jpg.rf.df9bae398622edee0d6fab36d0fe1a4b.jpg: 2 duplicate labels removed\n",
      "\u001b[34m\u001b[1mval: \u001b[0m/home/wlgh8749/yolo/Fire-Smoke-Detection-Yolov11-2/valid/images/Img_1197_jpg.rf.20ad3c490a780e9c8f55173cd2a564bf.jpg: 2 duplicate labels removed\n",
      "\u001b[34m\u001b[1mval: \u001b[0m/home/wlgh8749/yolo/Fire-Smoke-Detection-Yolov11-2/valid/images/Img_1780_jpg.rf.858a248e3eae1baf3c0ab771f89968dc.jpg: 1 duplicate labels removed\n",
      "\u001b[34m\u001b[1mval: \u001b[0m/home/wlgh8749/yolo/Fire-Smoke-Detection-Yolov11-2/valid/images/Img_1955_jpg.rf.9a8ac4eaa64978e46b365acb041d096f.jpg: 1 duplicate labels removed\n",
      "\u001b[34m\u001b[1mval: \u001b[0m/home/wlgh8749/yolo/Fire-Smoke-Detection-Yolov11-2/valid/images/Img_1976_jpg.rf.979ba85ea2892ea7fcd40ffe06a209c9.jpg: 1 duplicate labels removed\n",
      "\u001b[34m\u001b[1mval: \u001b[0m/home/wlgh8749/yolo/Fire-Smoke-Detection-Yolov11-2/valid/images/Img_2026_jpg.rf.8edef5370062bdcbfcbe3a97e1879ada.jpg: 1 duplicate labels removed\n",
      "\u001b[34m\u001b[1mval: \u001b[0m/home/wlgh8749/yolo/Fire-Smoke-Detection-Yolov11-2/valid/images/Img_2110_jpg.rf.3fa6d8c06012d1332b72bb4895f95598.jpg: 1 duplicate labels removed\n",
      "\u001b[34m\u001b[1mval: \u001b[0m/home/wlgh8749/yolo/Fire-Smoke-Detection-Yolov11-2/valid/images/Img_375_jpg.rf.095c307b52fbb9861e5baf399aab1291.jpg: 1 duplicate labels removed\n",
      "\u001b[34m\u001b[1mval: \u001b[0m/home/wlgh8749/yolo/Fire-Smoke-Detection-Yolov11-2/valid/images/Img_399_jpg.rf.6022478e644a229c94efd4c788054894.jpg: 1 duplicate labels removed\n",
      "\u001b[34m\u001b[1mval: \u001b[0m/home/wlgh8749/yolo/Fire-Smoke-Detection-Yolov11-2/valid/images/Img_437_jpg.rf.db6979dd96b5ba5d28cebe77445d2d90.jpg: 1 duplicate labels removed\n",
      "\u001b[34m\u001b[1mval: \u001b[0m/home/wlgh8749/yolo/Fire-Smoke-Detection-Yolov11-2/valid/images/Img_495_jpg.rf.341f9d18754db2ca5ec9d3feb5dedccd.jpg: 1 duplicate labels removed\n",
      "\u001b[34m\u001b[1mval: \u001b[0m/home/wlgh8749/yolo/Fire-Smoke-Detection-Yolov11-2/valid/images/Img_497_jpg.rf.095179b07e61b1653f956b02404d318f.jpg: 1 duplicate labels removed\n",
      "\u001b[34m\u001b[1mval: \u001b[0m/home/wlgh8749/yolo/Fire-Smoke-Detection-Yolov11-2/valid/images/Img_69_jpg.rf.2c207becac5a8e07c408c9aad2a95cf6.jpg: 1 duplicate labels removed\n",
      "\u001b[34m\u001b[1mval: \u001b[0m/home/wlgh8749/yolo/Fire-Smoke-Detection-Yolov11-2/valid/images/Img_88_jpg.rf.eeb3679d9c163842c45540e1393bb0e8.jpg: 1 duplicate labels removed\n"
     ]
    },
    {
     "name": "stderr",
     "output_type": "stream",
     "text": [
      "\n"
     ]
    },
    {
     "name": "stdout",
     "output_type": "stream",
     "text": [
      "\u001b[34m\u001b[1mval: \u001b[0mNew cache created: /home/wlgh8749/yolo/Fire-Smoke-Detection-Yolov11-2/valid/labels.cache\n",
      "WARNING ⚠️ Box and segment counts should be equal, but got len(segments) = 25, len(boxes) = 1516. To resolve this only boxes will be used and all segments will be removed. To avoid this please supply either a detect or segment dataset, not a detect-segment mixed dataset.\n",
      "Plotting labels to runs-fire-smoke/yolov8-fire-smoke/labels.jpg... \n",
      "\u001b[34m\u001b[1moptimizer:\u001b[0m 'optimizer=auto' found, ignoring 'lr0=0.01' and 'momentum=0.937' and determining best 'optimizer', 'lr0' and 'momentum' automatically... \n",
      "\u001b[34m\u001b[1moptimizer:\u001b[0m SGD(lr=0.01, momentum=0.9) with parameter groups 57 weight(decay=0.0), 64 weight(decay=0.0005), 63 bias(decay=0.0)\n",
      "Image sizes 640 train, 640 val\n",
      "Using 4 dataloader workers\n",
      "Logging results to \u001b[1mruns-fire-smoke/yolov8-fire-smoke\u001b[0m\n",
      "Starting training for 300 epochs...\n",
      "\n",
      "      Epoch    GPU_mem   box_loss   cls_loss   dfl_loss  Instances       Size\n"
     ]
    },
    {
     "name": "stderr",
     "output_type": "stream",
     "text": [
      "      1/300      6.97G      1.733      2.474      1.892         16        640: 100%|██████████| 287/287 [00:59<00:00,  4.82it/s]\n",
      "                 Class     Images  Instances      Box(P          R      mAP50  mAP50-95): 100%|██████████| 14/14 [00:03<00:00,  3.57it/s]\n"
     ]
    },
    {
     "name": "stdout",
     "output_type": "stream",
     "text": [
      "                   all        872       1516      0.651      0.464       0.52      0.252\n",
      "\n",
      "      Epoch    GPU_mem   box_loss   cls_loss   dfl_loss  Instances       Size\n"
     ]
    },
    {
     "name": "stderr",
     "output_type": "stream",
     "text": [
      "      2/300      8.49G      1.547      1.778       1.71         13        640: 100%|██████████| 287/287 [00:59<00:00,  4.80it/s]\n",
      "                 Class     Images  Instances      Box(P          R      mAP50  mAP50-95): 100%|██████████| 14/14 [00:03<00:00,  4.49it/s]\n"
     ]
    },
    {
     "name": "stdout",
     "output_type": "stream",
     "text": [
      "                   all        872       1516      0.654      0.515      0.552      0.301\n",
      "\n",
      "      Epoch    GPU_mem   box_loss   cls_loss   dfl_loss  Instances       Size\n"
     ]
    },
    {
     "name": "stderr",
     "output_type": "stream",
     "text": [
      "      3/300       8.5G      1.585      1.795      1.738         13        640: 100%|██████████| 287/287 [00:58<00:00,  4.94it/s]\n",
      "                 Class     Images  Instances      Box(P          R      mAP50  mAP50-95): 100%|██████████| 14/14 [00:03<00:00,  4.59it/s]\n"
     ]
    },
    {
     "name": "stdout",
     "output_type": "stream",
     "text": [
      "                   all        872       1516      0.444      0.411      0.372      0.163\n",
      "\n",
      "      Epoch    GPU_mem   box_loss   cls_loss   dfl_loss  Instances       Size\n"
     ]
    },
    {
     "name": "stderr",
     "output_type": "stream",
     "text": [
      "      4/300       8.5G      1.689      1.972       1.81        105        640:  37%|███▋      | 105/287 [00:19<00:34,  5.28it/s]\n"
     ]
    },
    {
     "ename": "KeyboardInterrupt",
     "evalue": "",
     "output_type": "error",
     "traceback": [
      "\u001b[0;31m---------------------------------------------------------------------------\u001b[0m",
      "\u001b[0;31mKeyboardInterrupt\u001b[0m                         Traceback (most recent call last)",
      "Cell \u001b[0;32mIn[1], line 6\u001b[0m\n\u001b[1;32m      3\u001b[0m \u001b[38;5;66;03m# 모델 로드 및 fine-tuning 시작\u001b[39;00m\n\u001b[1;32m      4\u001b[0m model \u001b[38;5;241m=\u001b[39m YOLO(\u001b[38;5;124m\"\u001b[39m\u001b[38;5;124myolov8s.pt\u001b[39m\u001b[38;5;124m\"\u001b[39m)  \u001b[38;5;66;03m# 또는 yolov8n.pt\u001b[39;00m\n\u001b[0;32m----> 6\u001b[0m \u001b[43mmodel\u001b[49m\u001b[38;5;241;43m.\u001b[39;49m\u001b[43mtrain\u001b[49m\u001b[43m(\u001b[49m\n\u001b[1;32m      7\u001b[0m \u001b[43m    \u001b[49m\u001b[43mdata\u001b[49m\u001b[38;5;241;43m=\u001b[39;49m\u001b[38;5;124;43m\"\u001b[39;49m\u001b[38;5;124;43mFire-Smoke-Detection-Yolov11-2/data.yaml\u001b[39;49m\u001b[38;5;124;43m\"\u001b[39;49m\u001b[43m,\u001b[49m\n\u001b[1;32m      8\u001b[0m \u001b[43m    \u001b[49m\u001b[43mepochs\u001b[49m\u001b[38;5;241;43m=\u001b[39;49m\u001b[38;5;241;43m300\u001b[39;49m\u001b[43m,\u001b[49m\n\u001b[1;32m      9\u001b[0m \u001b[43m    \u001b[49m\u001b[43mimgsz\u001b[49m\u001b[38;5;241;43m=\u001b[39;49m\u001b[38;5;241;43m640\u001b[39;49m\u001b[43m,\u001b[49m\n\u001b[1;32m     10\u001b[0m \u001b[43m    \u001b[49m\u001b[43mbatch\u001b[49m\u001b[38;5;241;43m=\u001b[39;49m\u001b[38;5;241;43m32\u001b[39;49m\u001b[43m,\u001b[49m\n\u001b[1;32m     11\u001b[0m \u001b[43m    \u001b[49m\u001b[43mdevice\u001b[49m\u001b[38;5;241;43m=\u001b[39;49m\u001b[38;5;124;43m\"\u001b[39;49m\u001b[38;5;124;43m0\u001b[39;49m\u001b[38;5;124;43m\"\u001b[39;49m\u001b[43m,\u001b[49m\n\u001b[1;32m     12\u001b[0m \u001b[43m    \u001b[49m\u001b[43mname\u001b[49m\u001b[38;5;241;43m=\u001b[39;49m\u001b[38;5;124;43m\"\u001b[39;49m\u001b[38;5;124;43myolov8-fire-smoke\u001b[39;49m\u001b[38;5;124;43m\"\u001b[39;49m\u001b[43m,\u001b[49m\n\u001b[1;32m     13\u001b[0m \u001b[43m    \u001b[49m\u001b[43mproject\u001b[49m\u001b[38;5;241;43m=\u001b[39;49m\u001b[38;5;124;43m\"\u001b[39;49m\u001b[38;5;124;43mruns-fire-smoke\u001b[39;49m\u001b[38;5;124;43m\"\u001b[39;49m\u001b[43m,\u001b[49m\n\u001b[1;32m     14\u001b[0m \u001b[43m    \u001b[49m\u001b[43mworkers\u001b[49m\u001b[38;5;241;43m=\u001b[39;49m\u001b[38;5;241;43m4\u001b[39;49m\n\u001b[1;32m     15\u001b[0m \u001b[43m)\u001b[49m\n",
      "File \u001b[0;32m~/yolo/yolo/lib/python3.8/site-packages/ultralytics/engine/model.py:797\u001b[0m, in \u001b[0;36mModel.train\u001b[0;34m(self, trainer, **kwargs)\u001b[0m\n\u001b[1;32m    794\u001b[0m     \u001b[38;5;28mself\u001b[39m\u001b[38;5;241m.\u001b[39mmodel \u001b[38;5;241m=\u001b[39m \u001b[38;5;28mself\u001b[39m\u001b[38;5;241m.\u001b[39mtrainer\u001b[38;5;241m.\u001b[39mmodel\n\u001b[1;32m    796\u001b[0m \u001b[38;5;28mself\u001b[39m\u001b[38;5;241m.\u001b[39mtrainer\u001b[38;5;241m.\u001b[39mhub_session \u001b[38;5;241m=\u001b[39m \u001b[38;5;28mself\u001b[39m\u001b[38;5;241m.\u001b[39msession  \u001b[38;5;66;03m# attach optional HUB session\u001b[39;00m\n\u001b[0;32m--> 797\u001b[0m \u001b[38;5;28;43mself\u001b[39;49m\u001b[38;5;241;43m.\u001b[39;49m\u001b[43mtrainer\u001b[49m\u001b[38;5;241;43m.\u001b[39;49m\u001b[43mtrain\u001b[49m\u001b[43m(\u001b[49m\u001b[43m)\u001b[49m\n\u001b[1;32m    798\u001b[0m \u001b[38;5;66;03m# Update model and cfg after training\u001b[39;00m\n\u001b[1;32m    799\u001b[0m \u001b[38;5;28;01mif\u001b[39;00m RANK \u001b[38;5;129;01min\u001b[39;00m {\u001b[38;5;241m-\u001b[39m\u001b[38;5;241m1\u001b[39m, \u001b[38;5;241m0\u001b[39m}:\n",
      "File \u001b[0;32m~/yolo/yolo/lib/python3.8/site-packages/ultralytics/engine/trainer.py:227\u001b[0m, in \u001b[0;36mBaseTrainer.train\u001b[0;34m(self)\u001b[0m\n\u001b[1;32m    224\u001b[0m         ddp_cleanup(\u001b[38;5;28mself\u001b[39m, \u001b[38;5;28mstr\u001b[39m(file))\n\u001b[1;32m    226\u001b[0m \u001b[38;5;28;01melse\u001b[39;00m:\n\u001b[0;32m--> 227\u001b[0m     \u001b[38;5;28;43mself\u001b[39;49m\u001b[38;5;241;43m.\u001b[39;49m\u001b[43m_do_train\u001b[49m\u001b[43m(\u001b[49m\u001b[43mworld_size\u001b[49m\u001b[43m)\u001b[49m\n",
      "File \u001b[0;32m~/yolo/yolo/lib/python3.8/site-packages/ultralytics/engine/trainer.py:406\u001b[0m, in \u001b[0;36mBaseTrainer._do_train\u001b[0;34m(self, world_size)\u001b[0m\n\u001b[1;32m    404\u001b[0m \u001b[38;5;28;01mwith\u001b[39;00m autocast(\u001b[38;5;28mself\u001b[39m\u001b[38;5;241m.\u001b[39mamp):\n\u001b[1;32m    405\u001b[0m     batch \u001b[38;5;241m=\u001b[39m \u001b[38;5;28mself\u001b[39m\u001b[38;5;241m.\u001b[39mpreprocess_batch(batch)\n\u001b[0;32m--> 406\u001b[0m     loss, \u001b[38;5;28mself\u001b[39m\u001b[38;5;241m.\u001b[39mloss_items \u001b[38;5;241m=\u001b[39m \u001b[38;5;28;43mself\u001b[39;49m\u001b[38;5;241;43m.\u001b[39;49m\u001b[43mmodel\u001b[49m\u001b[43m(\u001b[49m\u001b[43mbatch\u001b[49m\u001b[43m)\u001b[49m\n\u001b[1;32m    407\u001b[0m     \u001b[38;5;28mself\u001b[39m\u001b[38;5;241m.\u001b[39mloss \u001b[38;5;241m=\u001b[39m loss\u001b[38;5;241m.\u001b[39msum()\n\u001b[1;32m    408\u001b[0m     \u001b[38;5;28;01mif\u001b[39;00m RANK \u001b[38;5;241m!=\u001b[39m \u001b[38;5;241m-\u001b[39m\u001b[38;5;241m1\u001b[39m:\n",
      "File \u001b[0;32m~/yolo/yolo/lib/python3.8/site-packages/torch/nn/modules/module.py:1553\u001b[0m, in \u001b[0;36mModule._wrapped_call_impl\u001b[0;34m(self, *args, **kwargs)\u001b[0m\n\u001b[1;32m   1551\u001b[0m     \u001b[38;5;28;01mreturn\u001b[39;00m \u001b[38;5;28mself\u001b[39m\u001b[38;5;241m.\u001b[39m_compiled_call_impl(\u001b[38;5;241m*\u001b[39margs, \u001b[38;5;241m*\u001b[39m\u001b[38;5;241m*\u001b[39mkwargs)  \u001b[38;5;66;03m# type: ignore[misc]\u001b[39;00m\n\u001b[1;32m   1552\u001b[0m \u001b[38;5;28;01melse\u001b[39;00m:\n\u001b[0;32m-> 1553\u001b[0m     \u001b[38;5;28;01mreturn\u001b[39;00m \u001b[38;5;28;43mself\u001b[39;49m\u001b[38;5;241;43m.\u001b[39;49m\u001b[43m_call_impl\u001b[49m\u001b[43m(\u001b[49m\u001b[38;5;241;43m*\u001b[39;49m\u001b[43margs\u001b[49m\u001b[43m,\u001b[49m\u001b[43m \u001b[49m\u001b[38;5;241;43m*\u001b[39;49m\u001b[38;5;241;43m*\u001b[39;49m\u001b[43mkwargs\u001b[49m\u001b[43m)\u001b[49m\n",
      "File \u001b[0;32m~/yolo/yolo/lib/python3.8/site-packages/torch/nn/modules/module.py:1562\u001b[0m, in \u001b[0;36mModule._call_impl\u001b[0;34m(self, *args, **kwargs)\u001b[0m\n\u001b[1;32m   1557\u001b[0m \u001b[38;5;66;03m# If we don't have any hooks, we want to skip the rest of the logic in\u001b[39;00m\n\u001b[1;32m   1558\u001b[0m \u001b[38;5;66;03m# this function, and just call forward.\u001b[39;00m\n\u001b[1;32m   1559\u001b[0m \u001b[38;5;28;01mif\u001b[39;00m \u001b[38;5;129;01mnot\u001b[39;00m (\u001b[38;5;28mself\u001b[39m\u001b[38;5;241m.\u001b[39m_backward_hooks \u001b[38;5;129;01mor\u001b[39;00m \u001b[38;5;28mself\u001b[39m\u001b[38;5;241m.\u001b[39m_backward_pre_hooks \u001b[38;5;129;01mor\u001b[39;00m \u001b[38;5;28mself\u001b[39m\u001b[38;5;241m.\u001b[39m_forward_hooks \u001b[38;5;129;01mor\u001b[39;00m \u001b[38;5;28mself\u001b[39m\u001b[38;5;241m.\u001b[39m_forward_pre_hooks\n\u001b[1;32m   1560\u001b[0m         \u001b[38;5;129;01mor\u001b[39;00m _global_backward_pre_hooks \u001b[38;5;129;01mor\u001b[39;00m _global_backward_hooks\n\u001b[1;32m   1561\u001b[0m         \u001b[38;5;129;01mor\u001b[39;00m _global_forward_hooks \u001b[38;5;129;01mor\u001b[39;00m _global_forward_pre_hooks):\n\u001b[0;32m-> 1562\u001b[0m     \u001b[38;5;28;01mreturn\u001b[39;00m \u001b[43mforward_call\u001b[49m\u001b[43m(\u001b[49m\u001b[38;5;241;43m*\u001b[39;49m\u001b[43margs\u001b[49m\u001b[43m,\u001b[49m\u001b[43m \u001b[49m\u001b[38;5;241;43m*\u001b[39;49m\u001b[38;5;241;43m*\u001b[39;49m\u001b[43mkwargs\u001b[49m\u001b[43m)\u001b[49m\n\u001b[1;32m   1564\u001b[0m \u001b[38;5;28;01mtry\u001b[39;00m:\n\u001b[1;32m   1565\u001b[0m     result \u001b[38;5;241m=\u001b[39m \u001b[38;5;28;01mNone\u001b[39;00m\n",
      "File \u001b[0;32m~/yolo/yolo/lib/python3.8/site-packages/ultralytics/nn/tasks.py:137\u001b[0m, in \u001b[0;36mBaseModel.forward\u001b[0;34m(self, x, *args, **kwargs)\u001b[0m\n\u001b[1;32m    123\u001b[0m \u001b[38;5;250m\u001b[39m\u001b[38;5;124;03m\"\"\"\u001b[39;00m\n\u001b[1;32m    124\u001b[0m \u001b[38;5;124;03mPerform forward pass of the model for either training or inference.\u001b[39;00m\n\u001b[1;32m    125\u001b[0m \n\u001b[0;32m   (...)\u001b[0m\n\u001b[1;32m    134\u001b[0m \u001b[38;5;124;03m    (torch.Tensor): Loss if x is a dict (training), or network predictions (inference).\u001b[39;00m\n\u001b[1;32m    135\u001b[0m \u001b[38;5;124;03m\"\"\"\u001b[39;00m\n\u001b[1;32m    136\u001b[0m \u001b[38;5;28;01mif\u001b[39;00m \u001b[38;5;28misinstance\u001b[39m(x, \u001b[38;5;28mdict\u001b[39m):  \u001b[38;5;66;03m# for cases of training and validating while training.\u001b[39;00m\n\u001b[0;32m--> 137\u001b[0m     \u001b[38;5;28;01mreturn\u001b[39;00m \u001b[38;5;28;43mself\u001b[39;49m\u001b[38;5;241;43m.\u001b[39;49m\u001b[43mloss\u001b[49m\u001b[43m(\u001b[49m\u001b[43mx\u001b[49m\u001b[43m,\u001b[49m\u001b[43m \u001b[49m\u001b[38;5;241;43m*\u001b[39;49m\u001b[43margs\u001b[49m\u001b[43m,\u001b[49m\u001b[43m \u001b[49m\u001b[38;5;241;43m*\u001b[39;49m\u001b[38;5;241;43m*\u001b[39;49m\u001b[43mkwargs\u001b[49m\u001b[43m)\u001b[49m\n\u001b[1;32m    138\u001b[0m \u001b[38;5;28;01mreturn\u001b[39;00m \u001b[38;5;28mself\u001b[39m\u001b[38;5;241m.\u001b[39mpredict(x, \u001b[38;5;241m*\u001b[39margs, \u001b[38;5;241m*\u001b[39m\u001b[38;5;241m*\u001b[39mkwargs)\n",
      "File \u001b[0;32m~/yolo/yolo/lib/python3.8/site-packages/ultralytics/nn/tasks.py:337\u001b[0m, in \u001b[0;36mBaseModel.loss\u001b[0;34m(self, batch, preds)\u001b[0m\n\u001b[1;32m    334\u001b[0m     \u001b[38;5;28mself\u001b[39m\u001b[38;5;241m.\u001b[39mcriterion \u001b[38;5;241m=\u001b[39m \u001b[38;5;28mself\u001b[39m\u001b[38;5;241m.\u001b[39minit_criterion()\n\u001b[1;32m    336\u001b[0m preds \u001b[38;5;241m=\u001b[39m \u001b[38;5;28mself\u001b[39m\u001b[38;5;241m.\u001b[39mforward(batch[\u001b[38;5;124m\"\u001b[39m\u001b[38;5;124mimg\u001b[39m\u001b[38;5;124m\"\u001b[39m]) \u001b[38;5;28;01mif\u001b[39;00m preds \u001b[38;5;129;01mis\u001b[39;00m \u001b[38;5;28;01mNone\u001b[39;00m \u001b[38;5;28;01melse\u001b[39;00m preds\n\u001b[0;32m--> 337\u001b[0m \u001b[38;5;28;01mreturn\u001b[39;00m \u001b[38;5;28;43mself\u001b[39;49m\u001b[38;5;241;43m.\u001b[39;49m\u001b[43mcriterion\u001b[49m\u001b[43m(\u001b[49m\u001b[43mpreds\u001b[49m\u001b[43m,\u001b[49m\u001b[43m \u001b[49m\u001b[43mbatch\u001b[49m\u001b[43m)\u001b[49m\n",
      "File \u001b[0;32m~/yolo/yolo/lib/python3.8/site-packages/ultralytics/utils/loss.py:256\u001b[0m, in \u001b[0;36mv8DetectionLoss.__call__\u001b[0;34m(self, preds, batch)\u001b[0m\n\u001b[1;32m    254\u001b[0m dtype \u001b[38;5;241m=\u001b[39m pred_scores\u001b[38;5;241m.\u001b[39mdtype\n\u001b[1;32m    255\u001b[0m batch_size \u001b[38;5;241m=\u001b[39m pred_scores\u001b[38;5;241m.\u001b[39mshape[\u001b[38;5;241m0\u001b[39m]\n\u001b[0;32m--> 256\u001b[0m imgsz \u001b[38;5;241m=\u001b[39m \u001b[43mtorch\u001b[49m\u001b[38;5;241;43m.\u001b[39;49m\u001b[43mtensor\u001b[49m\u001b[43m(\u001b[49m\u001b[43mfeats\u001b[49m\u001b[43m[\u001b[49m\u001b[38;5;241;43m0\u001b[39;49m\u001b[43m]\u001b[49m\u001b[38;5;241;43m.\u001b[39;49m\u001b[43mshape\u001b[49m\u001b[43m[\u001b[49m\u001b[38;5;241;43m2\u001b[39;49m\u001b[43m:\u001b[49m\u001b[43m]\u001b[49m\u001b[43m,\u001b[49m\u001b[43m \u001b[49m\u001b[43mdevice\u001b[49m\u001b[38;5;241;43m=\u001b[39;49m\u001b[38;5;28;43mself\u001b[39;49m\u001b[38;5;241;43m.\u001b[39;49m\u001b[43mdevice\u001b[49m\u001b[43m,\u001b[49m\u001b[43m \u001b[49m\u001b[43mdtype\u001b[49m\u001b[38;5;241;43m=\u001b[39;49m\u001b[43mdtype\u001b[49m\u001b[43m)\u001b[49m \u001b[38;5;241m*\u001b[39m \u001b[38;5;28mself\u001b[39m\u001b[38;5;241m.\u001b[39mstride[\u001b[38;5;241m0\u001b[39m]  \u001b[38;5;66;03m# image size (h,w)\u001b[39;00m\n\u001b[1;32m    257\u001b[0m anchor_points, stride_tensor \u001b[38;5;241m=\u001b[39m make_anchors(feats, \u001b[38;5;28mself\u001b[39m\u001b[38;5;241m.\u001b[39mstride, \u001b[38;5;241m0.5\u001b[39m)\n\u001b[1;32m    259\u001b[0m \u001b[38;5;66;03m# Targets\u001b[39;00m\n",
      "\u001b[0;31mKeyboardInterrupt\u001b[0m: "
     ]
    }
   ],
   "source": [
    "from ultralytics import YOLO\n",
    "\n",
    "# 모델 로드 및 fine-tuning 시작\n",
    "model = YOLO(\"yolov8s.pt\")  # 또는 yolov8n.pt\n",
    "\n",
    "model.train(\n",
    "    data=\"Fire-Smoke-Detection-Yolov11-2/data.yaml\",\n",
    "    epochs=300,\n",
    "    imgsz=640,\n",
    "    batch=32,\n",
    "    device=\"0\",\n",
    "    name=\"yolov8-fire-smoke\",\n",
    "    project=\"runs-fire-smoke\",\n",
    "    workers=4\n",
    ")\n"
   ]
  },
  {
   "cell_type": "code",
   "execution_count": null,
   "id": "b5a74268",
   "metadata": {},
   "outputs": [],
   "source": []
  }
 ],
 "metadata": {
  "kernelspec": {
   "display_name": "yolo",
   "language": "python",
   "name": "python3"
  },
  "language_info": {
   "codemirror_mode": {
    "name": "ipython",
    "version": 3
   },
   "file_extension": ".py",
   "mimetype": "text/x-python",
   "name": "python",
   "nbconvert_exporter": "python",
   "pygments_lexer": "ipython3",
   "version": "3.8.10"
  }
 },
 "nbformat": 4,
 "nbformat_minor": 5
}
